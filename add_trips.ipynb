{
 "cells": [
  {
   "cell_type": "markdown",
   "metadata": {},
   "source": [
    "# Add trips manually"
   ]
  },
  {
   "cell_type": "markdown",
   "metadata": {},
   "source": [
    "## Imports"
   ]
  },
  {
   "cell_type": "code",
   "execution_count": 1,
   "metadata": {},
   "outputs": [],
   "source": [
    "import pandas as pd"
   ]
  },
  {
   "cell_type": "markdown",
   "metadata": {},
   "source": [
    "## Constants"
   ]
  },
  {
   "cell_type": "code",
   "execution_count": 2,
   "metadata": {},
   "outputs": [],
   "source": [
    "df = pd.read_csv('data_k.csv', parse_dates=['Transaction Date'])\n",
    "\n",
    "DISP_CATEGORIES = ['Muni Bus', 'Muni Metro', 'BART', 'Cable Car',\n",
    "                   'Caltrain', 'Ferry', 'AC Transit', 'SamTrans']\n",
    "\n",
    "SUBMIT_CATEGORIES = {'Muni Bus': 'Muni Bus', 'Muni Metro': 'Muni Metro',\n",
    "                     'BART': 'BART Entrance', 'Cable Car': 'Cable Car',\n",
    "                     'Caltrain': 'Caltrain Entrance', 'Ferry': 'Ferry Entrance',\n",
    "                     'AC Transit': 'AC Transit', 'SamTrans': 'SamTrans'}"
   ]
  },
  {
   "cell_type": "markdown",
   "metadata": {},
   "source": [
    "## Main"
   ]
  },
  {
   "cell_type": "code",
   "execution_count": 54,
   "metadata": {},
   "outputs": [
    {
     "data": {
      "application/vnd.jupyter.widget-view+json": {
       "model_id": "cbf13466b70b48b5b51dfc52727fb28c",
       "version_major": 2,
       "version_minor": 0
      },
      "text/plain": [
       "VBox(children=(DatePicker(value=None, description='Date:', step=1), Select(description='Category:', options=('…"
      ]
     },
     "metadata": {},
     "output_type": "display_data"
    }
   ],
   "source": [
    "import ipywidgets as widgets\n",
    "from IPython.display import display\n",
    "\n",
    "# widget_layout = widgets.Layout(display='flex',\n",
    "#                                flex_flow='column',\n",
    "#                                align_items='flex-start',  # Align items to the left\n",
    "#                                width='auto')  # Let the items determine their own width\n",
    "\n",
    "# Create form elements\n",
    "transaction_date = widgets.DatePicker(description='Date:')\n",
    "category = widgets.Select(options=DISP_CATEGORIES, description='Category:')\n",
    "rides = widgets.BoundedIntText(min=1, max=10, step=1, description='Rides:')\n",
    "submit_button = widgets.Button(description=\"Add Ride\",\n",
    "                                button_style='primary',\n",
    "                                layout=widgets.Layout(width='212px', margin='3px 0 0 90px'))\n",
    "out = widgets.Output()\n",
    "\n",
    "# Define submit button click event\n",
    "def on_submit_button_clicked(b):\n",
    "    global df\n",
    "    \n",
    "    if transaction_date.value is None:\n",
    "        with out:\n",
    "            print('Please select a date')\n",
    "        return\n",
    "\n",
    "    for i in range(rides.value):\n",
    "        new_row = {\n",
    "            'Transaction Date': [pd.Timestamp(transaction_date.value)],\n",
    "            'Transaction Type': 'Manual entry',\n",
    "            'Category': [SUBMIT_CATEGORIES[category.value]]\n",
    "        }\n",
    "        \n",
    "        df = (pd.concat([df, pd.DataFrame(new_row)]).\n",
    "              sort_values('Transaction Date', ascending=False).\n",
    "              reset_index)(drop=True)\n",
    "        \n",
    "        with out:\n",
    "            print(f'Added {category.value} ride on {transaction_date.value}')\n",
    "        # df.to_csv('data_k.csv', index=False)\n",
    "\n",
    "# Bind the event to the submit button\n",
    "submit_button.on_click(on_submit_button_clicked)\n",
    "\n",
    "# Display the form\n",
    "display(widgets.VBox(children=[transaction_date, category, rides, submit_button, out]))\n",
    "                    # layout=widget_layout))"
   ]
  },
  {
   "cell_type": "markdown",
   "metadata": {},
   "source": [
    "# Scratch"
   ]
  },
  {
   "cell_type": "code",
   "execution_count": 48,
   "metadata": {},
   "outputs": [
    {
     "data": {
      "text/html": [
       "<div>\n",
       "<style scoped>\n",
       "    .dataframe tbody tr th:only-of-type {\n",
       "        vertical-align: middle;\n",
       "    }\n",
       "\n",
       "    .dataframe tbody tr th {\n",
       "        vertical-align: top;\n",
       "    }\n",
       "\n",
       "    .dataframe thead th {\n",
       "        text-align: right;\n",
       "    }\n",
       "</style>\n",
       "<table border=\"1\" class=\"dataframe\">\n",
       "  <thead>\n",
       "    <tr style=\"text-align: right;\">\n",
       "      <th></th>\n",
       "      <th>Transaction Date</th>\n",
       "      <th>Transaction Type</th>\n",
       "      <th>Location</th>\n",
       "      <th>Route</th>\n",
       "      <th>Product</th>\n",
       "      <th>Debit</th>\n",
       "      <th>Credit</th>\n",
       "      <th>Balance</th>\n",
       "      <th>Category</th>\n",
       "    </tr>\n",
       "  </thead>\n",
       "  <tbody>\n",
       "    <tr>\n",
       "      <th>0</th>\n",
       "      <td>2024-02-04</td>\n",
       "      <td>NaN</td>\n",
       "      <td>NaN</td>\n",
       "      <td>NaN</td>\n",
       "      <td>NaN</td>\n",
       "      <td>NaN</td>\n",
       "      <td>NaN</td>\n",
       "      <td>NaN</td>\n",
       "      <td>Muni Bus</td>\n",
       "    </tr>\n",
       "    <tr>\n",
       "      <th>1</th>\n",
       "      <td>2024-02-04</td>\n",
       "      <td>NaN</td>\n",
       "      <td>NaN</td>\n",
       "      <td>NaN</td>\n",
       "      <td>NaN</td>\n",
       "      <td>NaN</td>\n",
       "      <td>NaN</td>\n",
       "      <td>NaN</td>\n",
       "      <td>BART Entrance</td>\n",
       "    </tr>\n",
       "    <tr>\n",
       "      <th>2</th>\n",
       "      <td>2024-02-04</td>\n",
       "      <td>NaN</td>\n",
       "      <td>NaN</td>\n",
       "      <td>NaN</td>\n",
       "      <td>NaN</td>\n",
       "      <td>NaN</td>\n",
       "      <td>NaN</td>\n",
       "      <td>NaN</td>\n",
       "      <td>Muni Bus</td>\n",
       "    </tr>\n",
       "    <tr>\n",
       "      <th>3</th>\n",
       "      <td>2024-02-04</td>\n",
       "      <td>Manual entry</td>\n",
       "      <td>NaN</td>\n",
       "      <td>NaN</td>\n",
       "      <td>NaN</td>\n",
       "      <td>NaN</td>\n",
       "      <td>NaN</td>\n",
       "      <td>NaN</td>\n",
       "      <td>Caltrain Entrance</td>\n",
       "    </tr>\n",
       "    <tr>\n",
       "      <th>4</th>\n",
       "      <td>2024-02-04</td>\n",
       "      <td>NaN</td>\n",
       "      <td>NaN</td>\n",
       "      <td>NaN</td>\n",
       "      <td>NaN</td>\n",
       "      <td>NaN</td>\n",
       "      <td>NaN</td>\n",
       "      <td>NaN</td>\n",
       "      <td>Ferry Entrance</td>\n",
       "    </tr>\n",
       "  </tbody>\n",
       "</table>\n",
       "</div>"
      ],
      "text/plain": [
       "  Transaction Date Transaction Type Location Route Product  Debit  Credit  \\\n",
       "0       2024-02-04              NaN      NaN   NaN     NaN    NaN     NaN   \n",
       "1       2024-02-04              NaN      NaN   NaN     NaN    NaN     NaN   \n",
       "2       2024-02-04              NaN      NaN   NaN     NaN    NaN     NaN   \n",
       "3       2024-02-04     Manual entry      NaN   NaN     NaN    NaN     NaN   \n",
       "4       2024-02-04              NaN      NaN   NaN     NaN    NaN     NaN   \n",
       "\n",
       "   Balance           Category  \n",
       "0      NaN           Muni Bus  \n",
       "1      NaN      BART Entrance  \n",
       "2      NaN           Muni Bus  \n",
       "3      NaN  Caltrain Entrance  \n",
       "4      NaN     Ferry Entrance  "
      ]
     },
     "execution_count": 48,
     "metadata": {},
     "output_type": "execute_result"
    }
   ],
   "source": [
    "df.head(5)"
   ]
  }
 ],
 "metadata": {
  "kernelspec": {
   "display_name": "Python 3",
   "language": "python",
   "name": "python3"
  },
  "language_info": {
   "codemirror_mode": {
    "name": "ipython",
    "version": 3
   },
   "file_extension": ".py",
   "mimetype": "text/x-python",
   "name": "python",
   "nbconvert_exporter": "python",
   "pygments_lexer": "ipython3",
   "version": "3.12.0"
  }
 },
 "nbformat": 4,
 "nbformat_minor": 2
}
