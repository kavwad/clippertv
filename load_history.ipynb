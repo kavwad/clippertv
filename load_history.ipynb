{
 "cells": [
  {
   "cell_type": "markdown",
   "metadata": {},
   "source": [
    "# Initialize database with Clipper history 2021–23"
   ]
  },
  {
   "cell_type": "markdown",
   "metadata": {},
   "source": [
    "## Imports"
   ]
  },
  {
   "cell_type": "code",
   "execution_count": 11,
   "metadata": {},
   "outputs": [],
   "source": [
    "import pandas as pd"
   ]
  },
  {
   "cell_type": "markdown",
   "metadata": {},
   "source": [
    "## Functions"
   ]
  },
  {
   "cell_type": "code",
   "execution_count": 12,
   "metadata": {},
   "outputs": [],
   "source": [
    "def categorize(df):\n",
    "       df.loc[df['Location'] == 'ACT bus', 'Category'] = 'AC Transit'\n",
    "       df.loc[df['Transaction Type'] == 'Dual-tag entry transaction, no fare deduction', 'Category'] = 'BART Entrance'\n",
    "       df.loc[df['Transaction Type'] == 'Dual-tag exit transaction, fare payment', 'Category'] = 'BART Exit'\n",
    "       df.loc[df['Route'] == 'CC60', 'Category'] = 'Cable Car'\n",
    "       df.loc[(df['Transaction Type'] == 'Dual-tag entry transaction, maximum fare deducted (purse debit)') &\n",
    "              (df['Route'].isna()), 'Category'] = 'Caltrain Entrance'\n",
    "       df.loc[(df['Transaction Type'] == 'Dual-tag exit transaction, fare adjustment (purse rebate)') &\n",
    "              (df['Route'].isna()), 'Category'] = 'Caltrain Exit'\n",
    "       df.loc[(df['Transaction Type'] == 'Dual-tag entry transaction, maximum fare deducted (purse debit)') &\n",
    "              (df['Route'] == 'FERRY'), 'Category'] = 'Ferry Entrance'\n",
    "       df.loc[(df['Transaction Type'] == 'Dual-tag exit transaction, fare adjustment (purse rebate)') &\n",
    "              (df['Route'] == 'FERRY'), 'Category'] = 'Ferry Exit'\n",
    "       df.loc[df['Location'].str[-5:] == '(GGF)', 'Category'] = 'Ferry Exit'\n",
    "       df.loc[df['Location'] == 'SFM bus', 'Category'] = 'Muni Bus'\n",
    "       df.loc[df['Route'] == 'NONE', 'Category'] = 'Muni Metro'\n",
    "       df.loc[df['Location'] == 'SAM bus', 'Category'] = 'SamTrans'\n",
    "       df.loc[(df['Transaction Type'] == 'Threshold auto-load at a TransLink Device') |\n",
    "              (df['Transaction Type'] == 'Add value at TOT or TVM'), 'Category'] = 'Reload'\n",
    "\n",
    "       return df"
   ]
  },
  {
   "cell_type": "markdown",
   "metadata": {},
   "source": [
    "## Main"
   ]
  },
  {
   "cell_type": "code",
   "execution_count": 14,
   "metadata": {},
   "outputs": [
    {
     "name": "stderr",
     "output_type": "stream",
     "text": [
      "/var/folders/04/3nd376_s4cg9q732ybychj4w0000gn/T/ipykernel_35469/3375661730.py:1: UserWarning: Could not infer format, so each element will be parsed individually, falling back to `dateutil`. To ensure parsing is consistent and as-expected, please specify a format.\n",
      "  df = pd.read_csv('raw_data/transit_21-23_k.csv', parse_dates=['Transaction Date'])\n"
     ]
    }
   ],
   "source": [
    "df = pd.read_csv('raw_data/transit_21-23_k.csv', parse_dates=['Transaction Date'])\n",
    "for col in ['Debit', 'Credit', 'Balance']:\n",
    "    df[col] = df[col].str.replace('$', '').astype(float)\n",
    "\n",
    "df = categorize(df)\n",
    "df.to_csv('data_k.csv', index=False)"
   ]
  }
 ],
 "metadata": {
  "kernelspec": {
   "display_name": "Python 3",
   "language": "python",
   "name": "python3"
  },
  "language_info": {
   "codemirror_mode": {
    "name": "ipython",
    "version": 3
   },
   "file_extension": ".py",
   "mimetype": "text/x-python",
   "name": "python",
   "nbconvert_exporter": "python",
   "pygments_lexer": "ipython3",
   "version": "3.12.0"
  }
 },
 "nbformat": 4,
 "nbformat_minor": 2
}
