{
 "cells": [
  {
   "cell_type": "markdown",
   "metadata": {},
   "source": [
    "# Initialize database with Clipper history 2021–23"
   ]
  },
  {
   "cell_type": "markdown",
   "metadata": {},
   "source": [
    "## Imports"
   ]
  },
  {
   "cell_type": "code",
   "execution_count": 2,
   "metadata": {},
   "outputs": [],
   "source": [
    "import pandas as pd\n",
    "from import_pdf import categorize, check_category, save_to_gcs"
   ]
  },
  {
   "cell_type": "code",
   "execution_count": 4,
   "metadata": {},
   "outputs": [
    {
     "name": "stderr",
     "output_type": "stream",
     "text": [
      "/var/folders/04/3nd376_s4cg9q732ybychj4w0000gn/T/ipykernel_37899/1831463054.py:1: UserWarning: Could not infer format, so each element will be parsed individually, falling back to `dateutil`. To ensure parsing is consistent and as-expected, please specify a format.\n",
      "  df = pd.read_csv('raw_data/transit_21-23_b.csv', parse_dates=['Transaction Date'])\n"
     ]
    }
   ],
   "source": [
    "df = pd.read_csv('raw_data/transit_21-23_b.csv', parse_dates=['Transaction Date'])\n",
    "for col in ['Debit', 'Credit', 'Balance']:\n",
    "    df[col] = df[col].str.replace('$', '').astype(float)\n",
    "\n",
    "df = categorize(df)\n",
    "check_category(df)\n",
    "\n",
    "save_to_gcs('B', df)"
   ]
  }
 ],
 "metadata": {
  "kernelspec": {
   "display_name": "Python 3",
   "language": "python",
   "name": "python3"
  },
  "language_info": {
   "codemirror_mode": {
    "name": "ipython",
    "version": 3
   },
   "file_extension": ".py",
   "mimetype": "text/x-python",
   "name": "python",
   "nbconvert_exporter": "python",
   "pygments_lexer": "ipython3",
   "version": "3.12.0"
  }
 },
 "nbformat": 4,
 "nbformat_minor": 2
}
